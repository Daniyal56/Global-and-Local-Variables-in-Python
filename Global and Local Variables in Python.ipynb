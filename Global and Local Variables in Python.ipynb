{
 "cells": [
  {
   "cell_type": "code",
   "execution_count": 2,
   "metadata": {},
   "outputs": [
    {
     "name": "stdout",
     "output_type": "stream",
     "text": [
      "Daniyal\n"
     ]
    }
   ],
   "source": [
    "def f():\n",
    "    print(s)\n",
    "    \n",
    "s= 'Daniyal'\n",
    "f()\n"
   ]
  },
  {
   "cell_type": "code",
   "execution_count": 3,
   "metadata": {},
   "outputs": [
    {
     "name": "stdout",
     "output_type": "stream",
     "text": [
      "Ali\n"
     ]
    }
   ],
   "source": [
    "def f():\n",
    "    print(x)\n",
    "    \n",
    "x = 'Ali'\n",
    "f()"
   ]
  },
  {
   "cell_type": "code",
   "execution_count": 13,
   "metadata": {},
   "outputs": [
    {
     "name": "stdout",
     "output_type": "stream",
     "text": [
      "Ali\n",
      "Moiz\n"
     ]
    }
   ],
   "source": [
    "def f():\n",
    "    a = 'Ali'\n",
    "    print(a)\n",
    "\n",
    "f()\n",
    "a  = 'Moiz'\n",
    "print(a)\n"
   ]
  },
  {
   "cell_type": "code",
   "execution_count": 14,
   "metadata": {},
   "outputs": [
    {
     "name": "stdout",
     "output_type": "stream",
     "text": [
      "Ali\n",
      "Moiz\n"
     ]
    }
   ],
   "source": [
    "def f():\n",
    "    global x\n",
    "    print(x)\n",
    "    x = 'Moiz'\n",
    "    print(x)\n",
    "\n",
    "x = 'Ali'\n",
    "f()\n",
    "\n"
   ]
  }
 ],
 "metadata": {
  "kernelspec": {
   "display_name": "Python 3",
   "language": "python",
   "name": "python3"
  },
  "language_info": {
   "codemirror_mode": {
    "name": "ipython",
    "version": 3
   },
   "file_extension": ".py",
   "mimetype": "text/x-python",
   "name": "python",
   "nbconvert_exporter": "python",
   "pygments_lexer": "ipython3",
   "version": "3.7.3"
  }
 },
 "nbformat": 4,
 "nbformat_minor": 2
}
